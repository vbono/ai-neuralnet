{
  "cells": [
    {
      "cell_type": "markdown",
      "metadata": {
        "id": "-ecKwc-d350Q"
      },
      "source": [
        "For right now, I wanted to make a google colab so we can both work on this at the same time. Not sure if we can do that on the VSC with flask.\n",
        "\n",
        "sounds good, we can always import to VS later\n",
        "\n",
        "Sounds like a plan."
      ]
    },
    {
      "cell_type": "code",
      "execution_count": 1,
      "metadata": {
        "colab": {
          "base_uri": "https://localhost:8080/"
        },
        "id": "h4i-0FRP3xfc",
        "outputId": "1cdfd8be-54cc-4c0b-9a2a-beffd5de2c28"
      },
      "outputs": [
        {
          "name": "stdout",
          "output_type": "stream",
          "text": [
            "Requirement already satisfied: tensorflow in /opt/homebrew/lib/python3.10/site-packages (2.15.0)\n",
            "Requirement already satisfied: tensorflow-macos==2.15.0 in /opt/homebrew/lib/python3.10/site-packages (from tensorflow) (2.15.0)\n",
            "Requirement already satisfied: absl-py>=1.0.0 in /opt/homebrew/lib/python3.10/site-packages (from tensorflow-macos==2.15.0->tensorflow) (2.0.0)\n",
            "Requirement already satisfied: astunparse>=1.6.0 in /opt/homebrew/lib/python3.10/site-packages (from tensorflow-macos==2.15.0->tensorflow) (1.6.3)\n",
            "Requirement already satisfied: flatbuffers>=23.5.26 in /opt/homebrew/lib/python3.10/site-packages (from tensorflow-macos==2.15.0->tensorflow) (23.5.26)\n",
            "Requirement already satisfied: gast!=0.5.0,!=0.5.1,!=0.5.2,>=0.2.1 in /opt/homebrew/lib/python3.10/site-packages (from tensorflow-macos==2.15.0->tensorflow) (0.5.4)\n",
            "Requirement already satisfied: google-pasta>=0.1.1 in /opt/homebrew/lib/python3.10/site-packages (from tensorflow-macos==2.15.0->tensorflow) (0.2.0)\n",
            "Requirement already satisfied: h5py>=2.9.0 in /opt/homebrew/lib/python3.10/site-packages (from tensorflow-macos==2.15.0->tensorflow) (3.10.0)\n",
            "Requirement already satisfied: libclang>=13.0.0 in /opt/homebrew/lib/python3.10/site-packages (from tensorflow-macos==2.15.0->tensorflow) (16.0.6)\n",
            "Requirement already satisfied: ml-dtypes~=0.2.0 in /opt/homebrew/lib/python3.10/site-packages (from tensorflow-macos==2.15.0->tensorflow) (0.2.0)\n",
            "Requirement already satisfied: numpy<2.0.0,>=1.23.5 in /opt/homebrew/lib/python3.10/site-packages (from tensorflow-macos==2.15.0->tensorflow) (1.26.2)\n",
            "Requirement already satisfied: opt-einsum>=2.3.2 in /opt/homebrew/lib/python3.10/site-packages (from tensorflow-macos==2.15.0->tensorflow) (3.3.0)\n",
            "Requirement already satisfied: packaging in /Users/vbono/Library/Python/3.10/lib/python/site-packages (from tensorflow-macos==2.15.0->tensorflow) (23.2)\n",
            "Requirement already satisfied: protobuf!=4.21.0,!=4.21.1,!=4.21.2,!=4.21.3,!=4.21.4,!=4.21.5,<5.0.0dev,>=3.20.3 in /opt/homebrew/lib/python3.10/site-packages (from tensorflow-macos==2.15.0->tensorflow) (4.23.4)\n",
            "Requirement already satisfied: setuptools in /opt/homebrew/lib/python3.10/site-packages (from tensorflow-macos==2.15.0->tensorflow) (65.6.3)\n",
            "Requirement already satisfied: six>=1.12.0 in /Users/vbono/Library/Python/3.10/lib/python/site-packages (from tensorflow-macos==2.15.0->tensorflow) (1.16.0)\n",
            "Requirement already satisfied: termcolor>=1.1.0 in /opt/homebrew/lib/python3.10/site-packages (from tensorflow-macos==2.15.0->tensorflow) (2.4.0)\n",
            "Requirement already satisfied: typing-extensions>=3.6.6 in /opt/homebrew/lib/python3.10/site-packages (from tensorflow-macos==2.15.0->tensorflow) (4.8.0)\n",
            "Requirement already satisfied: wrapt<1.15,>=1.11.0 in /opt/homebrew/lib/python3.10/site-packages (from tensorflow-macos==2.15.0->tensorflow) (1.14.1)\n",
            "Requirement already satisfied: tensorflow-io-gcs-filesystem>=0.23.1 in /opt/homebrew/lib/python3.10/site-packages (from tensorflow-macos==2.15.0->tensorflow) (0.34.0)\n",
            "Requirement already satisfied: grpcio<2.0,>=1.24.3 in /opt/homebrew/lib/python3.10/site-packages (from tensorflow-macos==2.15.0->tensorflow) (1.59.3)\n",
            "Requirement already satisfied: tensorboard<2.16,>=2.15 in /opt/homebrew/lib/python3.10/site-packages (from tensorflow-macos==2.15.0->tensorflow) (2.15.1)\n",
            "Requirement already satisfied: tensorflow-estimator<2.16,>=2.15.0 in /opt/homebrew/lib/python3.10/site-packages (from tensorflow-macos==2.15.0->tensorflow) (2.15.0)\n",
            "Requirement already satisfied: keras<2.16,>=2.15.0 in /opt/homebrew/lib/python3.10/site-packages (from tensorflow-macos==2.15.0->tensorflow) (2.15.0)\n",
            "Requirement already satisfied: wheel<1.0,>=0.23.0 in /opt/homebrew/lib/python3.10/site-packages (from astunparse>=1.6.0->tensorflow-macos==2.15.0->tensorflow) (0.38.4)\n",
            "Requirement already satisfied: google-auth<3,>=1.6.3 in /opt/homebrew/lib/python3.10/site-packages (from tensorboard<2.16,>=2.15->tensorflow-macos==2.15.0->tensorflow) (2.24.0)\n",
            "Requirement already satisfied: google-auth-oauthlib<2,>=0.5 in /opt/homebrew/lib/python3.10/site-packages (from tensorboard<2.16,>=2.15->tensorflow-macos==2.15.0->tensorflow) (1.1.0)\n",
            "Requirement already satisfied: markdown>=2.6.8 in /opt/homebrew/lib/python3.10/site-packages (from tensorboard<2.16,>=2.15->tensorflow-macos==2.15.0->tensorflow) (3.5.1)\n",
            "Requirement already satisfied: requests<3,>=2.21.0 in /opt/homebrew/lib/python3.10/site-packages (from tensorboard<2.16,>=2.15->tensorflow-macos==2.15.0->tensorflow) (2.31.0)\n",
            "Requirement already satisfied: tensorboard-data-server<0.8.0,>=0.7.0 in /opt/homebrew/lib/python3.10/site-packages (from tensorboard<2.16,>=2.15->tensorflow-macos==2.15.0->tensorflow) (0.7.2)\n",
            "Requirement already satisfied: werkzeug>=1.0.1 in /opt/homebrew/lib/python3.10/site-packages (from tensorboard<2.16,>=2.15->tensorflow-macos==2.15.0->tensorflow) (3.0.1)\n",
            "Requirement already satisfied: cachetools<6.0,>=2.0.0 in /opt/homebrew/lib/python3.10/site-packages (from google-auth<3,>=1.6.3->tensorboard<2.16,>=2.15->tensorflow-macos==2.15.0->tensorflow) (5.3.2)\n",
            "Requirement already satisfied: pyasn1-modules>=0.2.1 in /opt/homebrew/lib/python3.10/site-packages (from google-auth<3,>=1.6.3->tensorboard<2.16,>=2.15->tensorflow-macos==2.15.0->tensorflow) (0.3.0)\n",
            "Requirement already satisfied: rsa<5,>=3.1.4 in /opt/homebrew/lib/python3.10/site-packages (from google-auth<3,>=1.6.3->tensorboard<2.16,>=2.15->tensorflow-macos==2.15.0->tensorflow) (4.9)\n",
            "Requirement already satisfied: requests-oauthlib>=0.7.0 in /opt/homebrew/lib/python3.10/site-packages (from google-auth-oauthlib<2,>=0.5->tensorboard<2.16,>=2.15->tensorflow-macos==2.15.0->tensorflow) (1.3.1)\n",
            "Requirement already satisfied: charset-normalizer<4,>=2 in /opt/homebrew/lib/python3.10/site-packages (from requests<3,>=2.21.0->tensorboard<2.16,>=2.15->tensorflow-macos==2.15.0->tensorflow) (3.2.0)\n",
            "Requirement already satisfied: idna<4,>=2.5 in /opt/homebrew/lib/python3.10/site-packages (from requests<3,>=2.21.0->tensorboard<2.16,>=2.15->tensorflow-macos==2.15.0->tensorflow) (3.4)\n",
            "Requirement already satisfied: urllib3<3,>=1.21.1 in /opt/homebrew/lib/python3.10/site-packages (from requests<3,>=2.21.0->tensorboard<2.16,>=2.15->tensorflow-macos==2.15.0->tensorflow) (2.0.5)\n",
            "Requirement already satisfied: certifi>=2017.4.17 in /opt/homebrew/lib/python3.10/site-packages (from requests<3,>=2.21.0->tensorboard<2.16,>=2.15->tensorflow-macos==2.15.0->tensorflow) (2023.7.22)\n",
            "Requirement already satisfied: MarkupSafe>=2.1.1 in /opt/homebrew/lib/python3.10/site-packages (from werkzeug>=1.0.1->tensorboard<2.16,>=2.15->tensorflow-macos==2.15.0->tensorflow) (2.1.3)\n",
            "Requirement already satisfied: pyasn1<0.6.0,>=0.4.6 in /opt/homebrew/lib/python3.10/site-packages (from pyasn1-modules>=0.2.1->google-auth<3,>=1.6.3->tensorboard<2.16,>=2.15->tensorflow-macos==2.15.0->tensorflow) (0.5.0)\n",
            "Requirement already satisfied: oauthlib>=3.0.0 in /opt/homebrew/lib/python3.10/site-packages (from requests-oauthlib>=0.7.0->google-auth-oauthlib<2,>=0.5->tensorboard<2.16,>=2.15->tensorflow-macos==2.15.0->tensorflow) (3.2.2)\n",
            "Note: you may need to restart the kernel to use updated packages.\n"
          ]
        }
      ],
      "source": [
        "!pip install tensorflow"
      ]
    },
    {
      "cell_type": "code",
      "execution_count": 83,
      "metadata": {
        "id": "VuxGGQiL699j"
      },
      "outputs": [],
      "source": [
        "import pandas as pd\n",
        "import numpy as np\n",
        "import seaborn as sns\n",
        "import pickle as pk\n",
        "import matplotlib.pyplot as plt\n",
        "from sklearn.model_selection import train_test_split\n",
        "from sklearn.linear_model import LogisticRegression\n",
        "from sklearn.preprocessing import StandardScaler\n",
        "from sklearn.preprocessing import MinMaxScaler\n",
        "from sklearn.metrics import accuracy_score, confusion_matrix\n",
        "import tensorflow as tf\n",
        "from tensorflow.keras.models import Sequential, load_model\n",
        "from tensorflow.keras.layers import Dense, Dropout\n",
        "from tensorflow.keras.optimizers import Adam"
      ]
    },
    {
      "cell_type": "code",
      "execution_count": 3,
      "metadata": {
        "colab": {
          "base_uri": "https://localhost:8080/"
        },
        "id": "M70SpbsX7BAG",
        "outputId": "f0fb5e28-3fbe-4660-f90b-d1cecd9d2d00"
      },
      "outputs": [
        {
          "ename": "ModuleNotFoundError",
          "evalue": "No module named 'google.colab'",
          "output_type": "error",
          "traceback": [
            "\u001b[0;31m---------------------------------------------------------------------------\u001b[0m",
            "\u001b[0;31mModuleNotFoundError\u001b[0m                       Traceback (most recent call last)",
            "\u001b[1;32m/Users/vbono/Documents/computer-science/ai/final-proj/Workshop1.ipynb Cell 4\u001b[0m line \u001b[0;36m1\n\u001b[0;32m----> <a href='vscode-notebook-cell:/Users/vbono/Documents/computer-science/ai/final-proj/Workshop1.ipynb#W3sZmlsZQ%3D%3D?line=0'>1</a>\u001b[0m \u001b[39mfrom\u001b[39;00m \u001b[39mgoogle\u001b[39;00m\u001b[39m.\u001b[39;00m\u001b[39mcolab\u001b[39;00m \u001b[39mimport\u001b[39;00m drive\n\u001b[1;32m      <a href='vscode-notebook-cell:/Users/vbono/Documents/computer-science/ai/final-proj/Workshop1.ipynb#W3sZmlsZQ%3D%3D?line=1'>2</a>\u001b[0m drive\u001b[39m.\u001b[39mmount(\u001b[39m'\u001b[39m\u001b[39m/content/gdrive\u001b[39m\u001b[39m'\u001b[39m)\n",
            "\u001b[0;31mModuleNotFoundError\u001b[0m: No module named 'google.colab'"
          ]
        }
      ],
      "source": [
        "from google.colab import drive\n",
        "drive.mount('/content/gdrive')"
      ]
    },
    {
      "cell_type": "code",
      "execution_count": 40,
      "metadata": {
        "colab": {
          "base_uri": "https://localhost:8080/",
          "height": 516
        },
        "id": "XGWTQLhgFO9F",
        "outputId": "9cd95329-0e3a-4760-9685-7e849f2f539c"
      },
      "outputs": [
        {
          "data": {
            "text/html": [
              "<div>\n",
              "<style scoped>\n",
              "    .dataframe tbody tr th:only-of-type {\n",
              "        vertical-align: middle;\n",
              "    }\n",
              "\n",
              "    .dataframe tbody tr th {\n",
              "        vertical-align: top;\n",
              "    }\n",
              "\n",
              "    .dataframe thead th {\n",
              "        text-align: right;\n",
              "    }\n",
              "</style>\n",
              "<table border=\"1\" class=\"dataframe\">\n",
              "  <thead>\n",
              "    <tr style=\"text-align: right;\">\n",
              "      <th></th>\n",
              "      <th>id</th>\n",
              "      <th>name</th>\n",
              "      <th>album</th>\n",
              "      <th>album_id</th>\n",
              "      <th>artists</th>\n",
              "      <th>artist_ids</th>\n",
              "      <th>track_number</th>\n",
              "      <th>disc_number</th>\n",
              "      <th>explicit</th>\n",
              "      <th>danceability</th>\n",
              "      <th>...</th>\n",
              "      <th>speechiness</th>\n",
              "      <th>acousticness</th>\n",
              "      <th>instrumentalness</th>\n",
              "      <th>liveness</th>\n",
              "      <th>valence</th>\n",
              "      <th>tempo</th>\n",
              "      <th>duration_ms</th>\n",
              "      <th>time_signature</th>\n",
              "      <th>year</th>\n",
              "      <th>release_date</th>\n",
              "    </tr>\n",
              "  </thead>\n",
              "  <tbody>\n",
              "    <tr>\n",
              "      <th>0</th>\n",
              "      <td>7lmeHLHBe4nmXzuXc0HDjk</td>\n",
              "      <td>Testify</td>\n",
              "      <td>The Battle Of Los Angeles</td>\n",
              "      <td>2eia0myWFgoHuttJytCxgX</td>\n",
              "      <td>['Rage Against The Machine']</td>\n",
              "      <td>['2d0hyoQ5ynDBnkvAbJKORj']</td>\n",
              "      <td>1</td>\n",
              "      <td>1</td>\n",
              "      <td>False</td>\n",
              "      <td>0.470</td>\n",
              "      <td>...</td>\n",
              "      <td>0.0727</td>\n",
              "      <td>0.02610</td>\n",
              "      <td>0.000011</td>\n",
              "      <td>0.3560</td>\n",
              "      <td>0.503</td>\n",
              "      <td>117.906</td>\n",
              "      <td>210133</td>\n",
              "      <td>4.0</td>\n",
              "      <td>1999</td>\n",
              "      <td>1999-11-02</td>\n",
              "    </tr>\n",
              "    <tr>\n",
              "      <th>1</th>\n",
              "      <td>1wsRitfRRtWyEapl0q22o8</td>\n",
              "      <td>Guerrilla Radio</td>\n",
              "      <td>The Battle Of Los Angeles</td>\n",
              "      <td>2eia0myWFgoHuttJytCxgX</td>\n",
              "      <td>['Rage Against The Machine']</td>\n",
              "      <td>['2d0hyoQ5ynDBnkvAbJKORj']</td>\n",
              "      <td>2</td>\n",
              "      <td>1</td>\n",
              "      <td>True</td>\n",
              "      <td>0.599</td>\n",
              "      <td>...</td>\n",
              "      <td>0.1880</td>\n",
              "      <td>0.01290</td>\n",
              "      <td>0.000071</td>\n",
              "      <td>0.1550</td>\n",
              "      <td>0.489</td>\n",
              "      <td>103.680</td>\n",
              "      <td>206200</td>\n",
              "      <td>4.0</td>\n",
              "      <td>1999</td>\n",
              "      <td>1999-11-02</td>\n",
              "    </tr>\n",
              "    <tr>\n",
              "      <th>2</th>\n",
              "      <td>1hR0fIFK2qRG3f3RF70pb7</td>\n",
              "      <td>Calm Like a Bomb</td>\n",
              "      <td>The Battle Of Los Angeles</td>\n",
              "      <td>2eia0myWFgoHuttJytCxgX</td>\n",
              "      <td>['Rage Against The Machine']</td>\n",
              "      <td>['2d0hyoQ5ynDBnkvAbJKORj']</td>\n",
              "      <td>3</td>\n",
              "      <td>1</td>\n",
              "      <td>False</td>\n",
              "      <td>0.315</td>\n",
              "      <td>...</td>\n",
              "      <td>0.4830</td>\n",
              "      <td>0.02340</td>\n",
              "      <td>0.000002</td>\n",
              "      <td>0.1220</td>\n",
              "      <td>0.370</td>\n",
              "      <td>149.749</td>\n",
              "      <td>298893</td>\n",
              "      <td>4.0</td>\n",
              "      <td>1999</td>\n",
              "      <td>1999-11-02</td>\n",
              "    </tr>\n",
              "    <tr>\n",
              "      <th>3</th>\n",
              "      <td>2lbASgTSoDO7MTuLAXlTW0</td>\n",
              "      <td>Mic Check</td>\n",
              "      <td>The Battle Of Los Angeles</td>\n",
              "      <td>2eia0myWFgoHuttJytCxgX</td>\n",
              "      <td>['Rage Against The Machine']</td>\n",
              "      <td>['2d0hyoQ5ynDBnkvAbJKORj']</td>\n",
              "      <td>4</td>\n",
              "      <td>1</td>\n",
              "      <td>True</td>\n",
              "      <td>0.440</td>\n",
              "      <td>...</td>\n",
              "      <td>0.2370</td>\n",
              "      <td>0.16300</td>\n",
              "      <td>0.000004</td>\n",
              "      <td>0.1210</td>\n",
              "      <td>0.574</td>\n",
              "      <td>96.752</td>\n",
              "      <td>213640</td>\n",
              "      <td>4.0</td>\n",
              "      <td>1999</td>\n",
              "      <td>1999-11-02</td>\n",
              "    </tr>\n",
              "    <tr>\n",
              "      <th>4</th>\n",
              "      <td>1MQTmpYOZ6fcMQc56Hdo7T</td>\n",
              "      <td>Sleep Now In the Fire</td>\n",
              "      <td>The Battle Of Los Angeles</td>\n",
              "      <td>2eia0myWFgoHuttJytCxgX</td>\n",
              "      <td>['Rage Against The Machine']</td>\n",
              "      <td>['2d0hyoQ5ynDBnkvAbJKORj']</td>\n",
              "      <td>5</td>\n",
              "      <td>1</td>\n",
              "      <td>False</td>\n",
              "      <td>0.426</td>\n",
              "      <td>...</td>\n",
              "      <td>0.0701</td>\n",
              "      <td>0.00162</td>\n",
              "      <td>0.105000</td>\n",
              "      <td>0.0789</td>\n",
              "      <td>0.539</td>\n",
              "      <td>127.059</td>\n",
              "      <td>205600</td>\n",
              "      <td>4.0</td>\n",
              "      <td>1999</td>\n",
              "      <td>1999-11-02</td>\n",
              "    </tr>\n",
              "  </tbody>\n",
              "</table>\n",
              "<p>5 rows × 24 columns</p>\n",
              "</div>"
            ],
            "text/plain": [
              "                       id                   name                      album  \\\n",
              "0  7lmeHLHBe4nmXzuXc0HDjk                Testify  The Battle Of Los Angeles   \n",
              "1  1wsRitfRRtWyEapl0q22o8        Guerrilla Radio  The Battle Of Los Angeles   \n",
              "2  1hR0fIFK2qRG3f3RF70pb7       Calm Like a Bomb  The Battle Of Los Angeles   \n",
              "3  2lbASgTSoDO7MTuLAXlTW0              Mic Check  The Battle Of Los Angeles   \n",
              "4  1MQTmpYOZ6fcMQc56Hdo7T  Sleep Now In the Fire  The Battle Of Los Angeles   \n",
              "\n",
              "                 album_id                       artists  \\\n",
              "0  2eia0myWFgoHuttJytCxgX  ['Rage Against The Machine']   \n",
              "1  2eia0myWFgoHuttJytCxgX  ['Rage Against The Machine']   \n",
              "2  2eia0myWFgoHuttJytCxgX  ['Rage Against The Machine']   \n",
              "3  2eia0myWFgoHuttJytCxgX  ['Rage Against The Machine']   \n",
              "4  2eia0myWFgoHuttJytCxgX  ['Rage Against The Machine']   \n",
              "\n",
              "                   artist_ids  track_number  disc_number  explicit  \\\n",
              "0  ['2d0hyoQ5ynDBnkvAbJKORj']             1            1     False   \n",
              "1  ['2d0hyoQ5ynDBnkvAbJKORj']             2            1      True   \n",
              "2  ['2d0hyoQ5ynDBnkvAbJKORj']             3            1     False   \n",
              "3  ['2d0hyoQ5ynDBnkvAbJKORj']             4            1      True   \n",
              "4  ['2d0hyoQ5ynDBnkvAbJKORj']             5            1     False   \n",
              "\n",
              "   danceability  ...  speechiness  acousticness  instrumentalness  liveness  \\\n",
              "0         0.470  ...       0.0727       0.02610          0.000011    0.3560   \n",
              "1         0.599  ...       0.1880       0.01290          0.000071    0.1550   \n",
              "2         0.315  ...       0.4830       0.02340          0.000002    0.1220   \n",
              "3         0.440  ...       0.2370       0.16300          0.000004    0.1210   \n",
              "4         0.426  ...       0.0701       0.00162          0.105000    0.0789   \n",
              "\n",
              "   valence    tempo  duration_ms  time_signature  year  release_date  \n",
              "0    0.503  117.906       210133             4.0  1999    1999-11-02  \n",
              "1    0.489  103.680       206200             4.0  1999    1999-11-02  \n",
              "2    0.370  149.749       298893             4.0  1999    1999-11-02  \n",
              "3    0.574   96.752       213640             4.0  1999    1999-11-02  \n",
              "4    0.539  127.059       205600             4.0  1999    1999-11-02  \n",
              "\n",
              "[5 rows x 24 columns]"
            ]
          },
          "execution_count": 40,
          "metadata": {},
          "output_type": "execute_result"
        }
      ],
      "source": [
        "df = pd.read_csv('/Users/vbono/Documents/computer-science/ai/final-proj/tracks_features.csv')\n",
        "\n",
        "df.head()"
      ]
    },
    {
      "cell_type": "code",
      "execution_count": 41,
      "metadata": {
        "colab": {
          "base_uri": "https://localhost:8080/"
        },
        "id": "nnhCfhT0K6x3",
        "outputId": "6c1abfd8-a6af-419e-b05f-cdc9acb75f65"
      },
      "outputs": [
        {
          "data": {
            "text/plain": [
              "id                   object\n",
              "name                 object\n",
              "album                object\n",
              "album_id             object\n",
              "artists              object\n",
              "artist_ids           object\n",
              "track_number          int64\n",
              "disc_number           int64\n",
              "explicit               bool\n",
              "danceability        float64\n",
              "energy              float64\n",
              "key                   int64\n",
              "loudness            float64\n",
              "mode                  int64\n",
              "speechiness         float64\n",
              "acousticness        float64\n",
              "instrumentalness    float64\n",
              "liveness            float64\n",
              "valence             float64\n",
              "tempo               float64\n",
              "duration_ms           int64\n",
              "time_signature      float64\n",
              "year                  int64\n",
              "release_date         object\n",
              "dtype: object"
            ]
          },
          "execution_count": 41,
          "metadata": {},
          "output_type": "execute_result"
        }
      ],
      "source": [
        "df.dtypes"
      ]
    },
    {
      "cell_type": "code",
      "execution_count": 42,
      "metadata": {
        "colab": {
          "base_uri": "https://localhost:8080/"
        },
        "id": "wV9vO1rqFUoS",
        "outputId": "58b4cc39-e9e2-4f96-8938-2aa200c7e27d"
      },
      "outputs": [
        {
          "data": {
            "text/plain": [
              "Index(['id', 'name', 'album', 'album_id', 'artists', 'artist_ids',\n",
              "       'track_number', 'disc_number', 'explicit', 'danceability', 'energy',\n",
              "       'key', 'loudness', 'mode', 'speechiness', 'acousticness',\n",
              "       'instrumentalness', 'liveness', 'valence', 'tempo', 'duration_ms',\n",
              "       'time_signature', 'year', 'release_date'],\n",
              "      dtype='object')"
            ]
          },
          "execution_count": 42,
          "metadata": {},
          "output_type": "execute_result"
        }
      ],
      "source": [
        "df.columns"
      ]
    },
    {
      "cell_type": "code",
      "execution_count": 45,
      "metadata": {
        "colab": {
          "base_uri": "https://localhost:8080/"
        },
        "id": "mDciF2L_FnCc",
        "outputId": "95432702-d668-40b5-9c91-2f55a44f445f"
      },
      "outputs": [],
      "source": [
        "df_copy = df.copy()\n",
        "\n",
        "df_copy = df_copy.drop(columns=['id', 'name', 'album', 'album_id', 'artists', 'artist_ids', 'track_number', 'mode', 'disc_number', 'year', 'release_date', 'duration_ms', 'time_signature'], axis=1)\n",
        "df_copy.isnull().sum()\n",
        "\n",
        "columns = ['explicit', 'danceability', 'energy', 'key', 'loudness', 'speechiness', 'acousticness', 'instrumentalness', 'liveness', 'valence', 'tempo']"
      ]
    },
    {
      "cell_type": "code",
      "execution_count": 46,
      "metadata": {},
      "outputs": [
        {
          "data": {
            "text/plain": [
              "explicit               bool\n",
              "danceability        float64\n",
              "energy              float64\n",
              "key                   int64\n",
              "loudness            float64\n",
              "speechiness         float64\n",
              "acousticness        float64\n",
              "instrumentalness    float64\n",
              "liveness            float64\n",
              "valence             float64\n",
              "tempo               float64\n",
              "dtype: object"
            ]
          },
          "execution_count": 46,
          "metadata": {},
          "output_type": "execute_result"
        }
      ],
      "source": [
        "df_copy.dtypes"
      ]
    },
    {
      "cell_type": "code",
      "execution_count": 50,
      "metadata": {
        "id": "_UIkJ8WVmdi3"
      },
      "outputs": [
        {
          "name": "stdout",
          "output_type": "stream",
          "text": [
            "good\n",
            "good\n",
            "good\n",
            "IN FOR LOOP\n",
            "good\n",
            "good\n",
            "good\n",
            "good\n"
          ]
        }
      ],
      "source": [
        "label_encoder_map = {}\n",
        "print('good')\n",
        "\n",
        "#convert strings to lowercase\n",
        "df_copy = df_copy.map(lambda s:s.lower() if type(s) == str else s)\n",
        "print('good')\n",
        "\n",
        "#encode only those we're interested in\n",
        "df_encoded_labels = df_copy.copy()\n",
        "print('good')\n",
        "\n",
        "# create map - \n",
        "for i in range(1):\n",
        "    print('IN FOR LOOP')\n",
        "    labels = df_copy[columns[i]].astype('category').cat.categories.tolist()\n",
        "    print('good')\n",
        "    replace_map_comp = {columns[i] : {k :v for k, v in zip( labels, list(range(0, len(labels))))}}\n",
        "    print('good')\n",
        "\n",
        "    # each replace map is for a column and is added to the total data encoder map\n",
        "    label_encoder_map.update(replace_map_comp)\n",
        "    print('good')\n",
        "    # replace the data with the encoded values according the our map\n",
        "    df_encoded_labels.replace(replace_map_comp, inplace=True)\n",
        "    print('good')"
      ]
    },
    {
      "cell_type": "code",
      "execution_count": 51,
      "metadata": {},
      "outputs": [
        {
          "data": {
            "text/html": [
              "<div>\n",
              "<style scoped>\n",
              "    .dataframe tbody tr th:only-of-type {\n",
              "        vertical-align: middle;\n",
              "    }\n",
              "\n",
              "    .dataframe tbody tr th {\n",
              "        vertical-align: top;\n",
              "    }\n",
              "\n",
              "    .dataframe thead th {\n",
              "        text-align: right;\n",
              "    }\n",
              "</style>\n",
              "<table border=\"1\" class=\"dataframe\">\n",
              "  <thead>\n",
              "    <tr style=\"text-align: right;\">\n",
              "      <th></th>\n",
              "      <th>explicit</th>\n",
              "      <th>danceability</th>\n",
              "      <th>energy</th>\n",
              "      <th>key</th>\n",
              "      <th>loudness</th>\n",
              "      <th>speechiness</th>\n",
              "      <th>acousticness</th>\n",
              "      <th>instrumentalness</th>\n",
              "      <th>liveness</th>\n",
              "      <th>valence</th>\n",
              "      <th>tempo</th>\n",
              "    </tr>\n",
              "  </thead>\n",
              "  <tbody>\n",
              "    <tr>\n",
              "      <th>0</th>\n",
              "      <td>0</td>\n",
              "      <td>0.470</td>\n",
              "      <td>0.978</td>\n",
              "      <td>7</td>\n",
              "      <td>-5.399</td>\n",
              "      <td>0.0727</td>\n",
              "      <td>0.02610</td>\n",
              "      <td>0.000011</td>\n",
              "      <td>0.3560</td>\n",
              "      <td>0.503</td>\n",
              "      <td>117.906</td>\n",
              "    </tr>\n",
              "    <tr>\n",
              "      <th>1</th>\n",
              "      <td>1</td>\n",
              "      <td>0.599</td>\n",
              "      <td>0.957</td>\n",
              "      <td>11</td>\n",
              "      <td>-5.764</td>\n",
              "      <td>0.1880</td>\n",
              "      <td>0.01290</td>\n",
              "      <td>0.000071</td>\n",
              "      <td>0.1550</td>\n",
              "      <td>0.489</td>\n",
              "      <td>103.680</td>\n",
              "    </tr>\n",
              "    <tr>\n",
              "      <th>2</th>\n",
              "      <td>0</td>\n",
              "      <td>0.315</td>\n",
              "      <td>0.970</td>\n",
              "      <td>7</td>\n",
              "      <td>-5.424</td>\n",
              "      <td>0.4830</td>\n",
              "      <td>0.02340</td>\n",
              "      <td>0.000002</td>\n",
              "      <td>0.1220</td>\n",
              "      <td>0.370</td>\n",
              "      <td>149.749</td>\n",
              "    </tr>\n",
              "    <tr>\n",
              "      <th>3</th>\n",
              "      <td>1</td>\n",
              "      <td>0.440</td>\n",
              "      <td>0.967</td>\n",
              "      <td>11</td>\n",
              "      <td>-5.830</td>\n",
              "      <td>0.2370</td>\n",
              "      <td>0.16300</td>\n",
              "      <td>0.000004</td>\n",
              "      <td>0.1210</td>\n",
              "      <td>0.574</td>\n",
              "      <td>96.752</td>\n",
              "    </tr>\n",
              "    <tr>\n",
              "      <th>4</th>\n",
              "      <td>0</td>\n",
              "      <td>0.426</td>\n",
              "      <td>0.929</td>\n",
              "      <td>2</td>\n",
              "      <td>-6.729</td>\n",
              "      <td>0.0701</td>\n",
              "      <td>0.00162</td>\n",
              "      <td>0.105000</td>\n",
              "      <td>0.0789</td>\n",
              "      <td>0.539</td>\n",
              "      <td>127.059</td>\n",
              "    </tr>\n",
              "    <tr>\n",
              "      <th>...</th>\n",
              "      <td>...</td>\n",
              "      <td>...</td>\n",
              "      <td>...</td>\n",
              "      <td>...</td>\n",
              "      <td>...</td>\n",
              "      <td>...</td>\n",
              "      <td>...</td>\n",
              "      <td>...</td>\n",
              "      <td>...</td>\n",
              "      <td>...</td>\n",
              "      <td>...</td>\n",
              "    </tr>\n",
              "    <tr>\n",
              "      <th>1204020</th>\n",
              "      <td>0</td>\n",
              "      <td>0.264</td>\n",
              "      <td>0.966</td>\n",
              "      <td>5</td>\n",
              "      <td>-6.970</td>\n",
              "      <td>0.0672</td>\n",
              "      <td>0.00935</td>\n",
              "      <td>0.002240</td>\n",
              "      <td>0.3370</td>\n",
              "      <td>0.415</td>\n",
              "      <td>159.586</td>\n",
              "    </tr>\n",
              "    <tr>\n",
              "      <th>1204021</th>\n",
              "      <td>0</td>\n",
              "      <td>0.796</td>\n",
              "      <td>0.701</td>\n",
              "      <td>11</td>\n",
              "      <td>-6.602</td>\n",
              "      <td>0.0883</td>\n",
              "      <td>0.10400</td>\n",
              "      <td>0.644000</td>\n",
              "      <td>0.0749</td>\n",
              "      <td>0.781</td>\n",
              "      <td>121.980</td>\n",
              "    </tr>\n",
              "    <tr>\n",
              "      <th>1204022</th>\n",
              "      <td>0</td>\n",
              "      <td>0.785</td>\n",
              "      <td>0.796</td>\n",
              "      <td>9</td>\n",
              "      <td>-5.960</td>\n",
              "      <td>0.0564</td>\n",
              "      <td>0.03040</td>\n",
              "      <td>0.918000</td>\n",
              "      <td>0.0664</td>\n",
              "      <td>0.467</td>\n",
              "      <td>121.996</td>\n",
              "    </tr>\n",
              "    <tr>\n",
              "      <th>1204023</th>\n",
              "      <td>0</td>\n",
              "      <td>0.665</td>\n",
              "      <td>0.856</td>\n",
              "      <td>6</td>\n",
              "      <td>-6.788</td>\n",
              "      <td>0.0409</td>\n",
              "      <td>0.00007</td>\n",
              "      <td>0.776000</td>\n",
              "      <td>0.1170</td>\n",
              "      <td>0.227</td>\n",
              "      <td>124.986</td>\n",
              "    </tr>\n",
              "    <tr>\n",
              "      <th>1204024</th>\n",
              "      <td>0</td>\n",
              "      <td>0.736</td>\n",
              "      <td>0.708</td>\n",
              "      <td>2</td>\n",
              "      <td>-9.279</td>\n",
              "      <td>0.0539</td>\n",
              "      <td>0.01680</td>\n",
              "      <td>0.296000</td>\n",
              "      <td>0.2790</td>\n",
              "      <td>0.204</td>\n",
              "      <td>117.991</td>\n",
              "    </tr>\n",
              "  </tbody>\n",
              "</table>\n",
              "<p>1204025 rows × 11 columns</p>\n",
              "</div>"
            ],
            "text/plain": [
              "         explicit  danceability  energy  key  loudness  speechiness  \\\n",
              "0               0         0.470   0.978    7    -5.399       0.0727   \n",
              "1               1         0.599   0.957   11    -5.764       0.1880   \n",
              "2               0         0.315   0.970    7    -5.424       0.4830   \n",
              "3               1         0.440   0.967   11    -5.830       0.2370   \n",
              "4               0         0.426   0.929    2    -6.729       0.0701   \n",
              "...           ...           ...     ...  ...       ...          ...   \n",
              "1204020         0         0.264   0.966    5    -6.970       0.0672   \n",
              "1204021         0         0.796   0.701   11    -6.602       0.0883   \n",
              "1204022         0         0.785   0.796    9    -5.960       0.0564   \n",
              "1204023         0         0.665   0.856    6    -6.788       0.0409   \n",
              "1204024         0         0.736   0.708    2    -9.279       0.0539   \n",
              "\n",
              "         acousticness  instrumentalness  liveness  valence    tempo  \n",
              "0             0.02610          0.000011    0.3560    0.503  117.906  \n",
              "1             0.01290          0.000071    0.1550    0.489  103.680  \n",
              "2             0.02340          0.000002    0.1220    0.370  149.749  \n",
              "3             0.16300          0.000004    0.1210    0.574   96.752  \n",
              "4             0.00162          0.105000    0.0789    0.539  127.059  \n",
              "...               ...               ...       ...      ...      ...  \n",
              "1204020       0.00935          0.002240    0.3370    0.415  159.586  \n",
              "1204021       0.10400          0.644000    0.0749    0.781  121.980  \n",
              "1204022       0.03040          0.918000    0.0664    0.467  121.996  \n",
              "1204023       0.00007          0.776000    0.1170    0.227  124.986  \n",
              "1204024       0.01680          0.296000    0.2790    0.204  117.991  \n",
              "\n",
              "[1204025 rows x 11 columns]"
            ]
          },
          "execution_count": 51,
          "metadata": {},
          "output_type": "execute_result"
        }
      ],
      "source": [
        "df_encoded_labels"
      ]
    },
    {
      "cell_type": "code",
      "execution_count": 52,
      "metadata": {
        "id": "1KuECVuXiudY"
      },
      "outputs": [],
      "source": [
        "x = df_encoded_labels.drop(columns=['danceability'])\n",
        "\n",
        "df_encoded_labels['danceability'] = df_encoded_labels['danceability'].apply(lambda x: 1 if x > 0.5 else 0)\n",
        "y = df_encoded_labels['danceability'].round(1)"
      ]
    },
    {
      "cell_type": "code",
      "execution_count": 81,
      "metadata": {},
      "outputs": [
        {
          "data": {
            "text/html": [
              "<div>\n",
              "<style scoped>\n",
              "    .dataframe tbody tr th:only-of-type {\n",
              "        vertical-align: middle;\n",
              "    }\n",
              "\n",
              "    .dataframe tbody tr th {\n",
              "        vertical-align: top;\n",
              "    }\n",
              "\n",
              "    .dataframe thead th {\n",
              "        text-align: right;\n",
              "    }\n",
              "</style>\n",
              "<table border=\"1\" class=\"dataframe\">\n",
              "  <thead>\n",
              "    <tr style=\"text-align: right;\">\n",
              "      <th></th>\n",
              "      <th>explicit</th>\n",
              "      <th>danceability</th>\n",
              "      <th>energy</th>\n",
              "      <th>key</th>\n",
              "      <th>loudness</th>\n",
              "      <th>speechiness</th>\n",
              "      <th>acousticness</th>\n",
              "      <th>instrumentalness</th>\n",
              "      <th>liveness</th>\n",
              "      <th>valence</th>\n",
              "      <th>tempo</th>\n",
              "    </tr>\n",
              "  </thead>\n",
              "  <tbody>\n",
              "    <tr>\n",
              "      <th>0</th>\n",
              "      <td>0</td>\n",
              "      <td>0</td>\n",
              "      <td>0.978</td>\n",
              "      <td>7</td>\n",
              "      <td>-5.399</td>\n",
              "      <td>0.0727</td>\n",
              "      <td>0.02610</td>\n",
              "      <td>0.000011</td>\n",
              "      <td>0.3560</td>\n",
              "      <td>0.503</td>\n",
              "      <td>117.906</td>\n",
              "    </tr>\n",
              "    <tr>\n",
              "      <th>1</th>\n",
              "      <td>1</td>\n",
              "      <td>1</td>\n",
              "      <td>0.957</td>\n",
              "      <td>11</td>\n",
              "      <td>-5.764</td>\n",
              "      <td>0.1880</td>\n",
              "      <td>0.01290</td>\n",
              "      <td>0.000071</td>\n",
              "      <td>0.1550</td>\n",
              "      <td>0.489</td>\n",
              "      <td>103.680</td>\n",
              "    </tr>\n",
              "    <tr>\n",
              "      <th>2</th>\n",
              "      <td>0</td>\n",
              "      <td>0</td>\n",
              "      <td>0.970</td>\n",
              "      <td>7</td>\n",
              "      <td>-5.424</td>\n",
              "      <td>0.4830</td>\n",
              "      <td>0.02340</td>\n",
              "      <td>0.000002</td>\n",
              "      <td>0.1220</td>\n",
              "      <td>0.370</td>\n",
              "      <td>149.749</td>\n",
              "    </tr>\n",
              "    <tr>\n",
              "      <th>3</th>\n",
              "      <td>1</td>\n",
              "      <td>0</td>\n",
              "      <td>0.967</td>\n",
              "      <td>11</td>\n",
              "      <td>-5.830</td>\n",
              "      <td>0.2370</td>\n",
              "      <td>0.16300</td>\n",
              "      <td>0.000004</td>\n",
              "      <td>0.1210</td>\n",
              "      <td>0.574</td>\n",
              "      <td>96.752</td>\n",
              "    </tr>\n",
              "    <tr>\n",
              "      <th>4</th>\n",
              "      <td>0</td>\n",
              "      <td>0</td>\n",
              "      <td>0.929</td>\n",
              "      <td>2</td>\n",
              "      <td>-6.729</td>\n",
              "      <td>0.0701</td>\n",
              "      <td>0.00162</td>\n",
              "      <td>0.105000</td>\n",
              "      <td>0.0789</td>\n",
              "      <td>0.539</td>\n",
              "      <td>127.059</td>\n",
              "    </tr>\n",
              "  </tbody>\n",
              "</table>\n",
              "</div>"
            ],
            "text/plain": [
              "   explicit  danceability  energy  key  loudness  speechiness  acousticness  \\\n",
              "0         0             0   0.978    7    -5.399       0.0727       0.02610   \n",
              "1         1             1   0.957   11    -5.764       0.1880       0.01290   \n",
              "2         0             0   0.970    7    -5.424       0.4830       0.02340   \n",
              "3         1             0   0.967   11    -5.830       0.2370       0.16300   \n",
              "4         0             0   0.929    2    -6.729       0.0701       0.00162   \n",
              "\n",
              "   instrumentalness  liveness  valence    tempo  \n",
              "0          0.000011    0.3560    0.503  117.906  \n",
              "1          0.000071    0.1550    0.489  103.680  \n",
              "2          0.000002    0.1220    0.370  149.749  \n",
              "3          0.000004    0.1210    0.574   96.752  \n",
              "4          0.105000    0.0789    0.539  127.059  "
            ]
          },
          "execution_count": 81,
          "metadata": {},
          "output_type": "execute_result"
        }
      ],
      "source": [
        "df_encoded_labels = df_encoded_labels.fillna(df_encoded_labels.mean())\n",
        "df_encoded_labels.head()"
      ]
    },
    {
      "cell_type": "code",
      "execution_count": 84,
      "metadata": {},
      "outputs": [],
      "source": [
        "pk.dump(label_encoder_map, open(\"label_encoder_map.pkl\", \"wb\"))"
      ]
    },
    {
      "cell_type": "code",
      "execution_count": 53,
      "metadata": {
        "id": "qQGzqJnOovxg"
      },
      "outputs": [],
      "source": [
        "scaler = MinMaxScaler()\n",
        "scaler.fit(x)\n",
        "x = scaler.transform(x)"
      ]
    },
    {
      "cell_type": "code",
      "execution_count": 54,
      "metadata": {
        "id": "oIKbGAPxOx3n"
      },
      "outputs": [],
      "source": [
        "x_train, x_test, y_train, y_test = train_test_split(x, y, test_size=0.3)"
      ]
    },
    {
      "cell_type": "code",
      "execution_count": 55,
      "metadata": {
        "colab": {
          "base_uri": "https://localhost:8080/"
        },
        "id": "EO81ViuIfxV8",
        "outputId": "290d12ea-a0af-4837-8faf-079d00f184ab"
      },
      "outputs": [
        {
          "data": {
            "text/plain": [
              "array([[0.        , 0.94      , 0.09090909, ..., 0.264     , 0.253     ,\n",
              "        0.35577302],\n",
              "       [0.        , 0.844     , 0.81818182, ..., 0.164     , 0.0773    ,\n",
              "        0.4389999 ],\n",
              "       [0.        , 0.346     , 0.        , ..., 0.218     , 0.298     ,\n",
              "        0.3983827 ],\n",
              "       ...,\n",
              "       [0.        , 0.976     , 0.09090909, ..., 0.355     , 0.286     ,\n",
              "        0.52219062],\n",
              "       [0.        , 0.678     , 0.81818182, ..., 0.0775    , 0.666     ,\n",
              "        0.40162453],\n",
              "       [0.        , 0.847     , 0.        , ..., 0.108     , 0.453     ,\n",
              "        0.59434629]])"
            ]
          },
          "execution_count": 55,
          "metadata": {},
          "output_type": "execute_result"
        }
      ],
      "source": [
        "x_train"
      ]
    },
    {
      "cell_type": "code",
      "execution_count": 56,
      "metadata": {
        "colab": {
          "base_uri": "https://localhost:8080/"
        },
        "id": "pZaCoaSFf74R",
        "outputId": "bfa8f57a-aca1-43c8-931a-196663db9015"
      },
      "outputs": [
        {
          "data": {
            "text/plain": [
              "821650     0\n",
              "381110     0\n",
              "156362     0\n",
              "546023     1\n",
              "353155     1\n",
              "          ..\n",
              "739125     0\n",
              "341348     1\n",
              "866178     0\n",
              "26518      1\n",
              "1046049    1\n",
              "Name: danceability, Length: 842817, dtype: int64"
            ]
          },
          "execution_count": 56,
          "metadata": {},
          "output_type": "execute_result"
        }
      ],
      "source": [
        "y_train"
      ]
    },
    {
      "cell_type": "code",
      "execution_count": 64,
      "metadata": {
        "id": "lACzFOZJgctZ"
      },
      "outputs": [],
      "source": [
        "model = Sequential()\n",
        "\n",
        "model.add(Dense(32, input_dim=10, activation='relu'))\n",
        "model.add(Dense(16, activation='relu'))\n",
        "model.add(Dense(8, activation='relu'))\n",
        "model.add(Dense(1, activation='sigmoid'))"
      ]
    },
    {
      "cell_type": "code",
      "execution_count": 65,
      "metadata": {
        "id": "bQZT7aveqPlO"
      },
      "outputs": [],
      "source": [
        "model.compile(loss='binary_crossentropy', optimizer='adam', metrics=['accuracy'])"
      ]
    },
    {
      "cell_type": "code",
      "execution_count": 66,
      "metadata": {
        "colab": {
          "base_uri": "https://localhost:8080/"
        },
        "id": "M0ggtUqGqSkN",
        "outputId": "f8b85777-6453-4c7d-cb96-ca722863f71d"
      },
      "outputs": [
        {
          "name": "stdout",
          "output_type": "stream",
          "text": [
            "Model: \"sequential_1\"\n",
            "_________________________________________________________________\n",
            " Layer (type)                Output Shape              Param #   \n",
            "=================================================================\n",
            " dense_4 (Dense)             (None, 32)                352       \n",
            "                                                                 \n",
            " dense_5 (Dense)             (None, 16)                528       \n",
            "                                                                 \n",
            " dense_6 (Dense)             (None, 8)                 136       \n",
            "                                                                 \n",
            " dense_7 (Dense)             (None, 1)                 9         \n",
            "                                                                 \n",
            "=================================================================\n",
            "Total params: 1025 (4.00 KB)\n",
            "Trainable params: 1025 (4.00 KB)\n",
            "Non-trainable params: 0 (0.00 Byte)\n",
            "_________________________________________________________________\n"
          ]
        }
      ],
      "source": [
        "model.summary()"
      ]
    },
    {
      "cell_type": "code",
      "execution_count": 67,
      "metadata": {
        "colab": {
          "base_uri": "https://localhost:8080/"
        },
        "id": "xOzLiGVWrTKs",
        "outputId": "2b341505-6d30-48a4-dafc-f3ec2d23b10d"
      },
      "outputs": [
        {
          "data": {
            "text/plain": [
              "(1204025, 10)"
            ]
          },
          "execution_count": 67,
          "metadata": {},
          "output_type": "execute_result"
        }
      ],
      "source": [
        "x.shape"
      ]
    },
    {
      "cell_type": "code",
      "execution_count": 68,
      "metadata": {
        "colab": {
          "base_uri": "https://localhost:8080/"
        },
        "id": "uvo_3nb_rVSD",
        "outputId": "2a5b2674-0676-4c1a-9cc7-38ab1a1b8575"
      },
      "outputs": [
        {
          "data": {
            "text/plain": [
              "(1204025,)"
            ]
          },
          "execution_count": 68,
          "metadata": {},
          "output_type": "execute_result"
        }
      ],
      "source": [
        "y.shape"
      ]
    },
    {
      "cell_type": "code",
      "execution_count": 69,
      "metadata": {
        "colab": {
          "base_uri": "https://localhost:8080/"
        },
        "id": "XeqkV_nIqV_q",
        "outputId": "7f2a8e08-8236-421e-831d-b6d2f1d9d110"
      },
      "outputs": [
        {
          "name": "stdout",
          "output_type": "stream",
          "text": [
            "Epoch 1/50\n",
            "843/843 [==============================] - 1s 730us/step - loss: 0.5161 - accuracy: 0.7416\n",
            "Epoch 2/50\n",
            "843/843 [==============================] - 1s 767us/step - loss: 0.4691 - accuracy: 0.7717\n",
            "Epoch 3/50\n",
            "843/843 [==============================] - 1s 729us/step - loss: 0.4619 - accuracy: 0.7762\n",
            "Epoch 4/50\n",
            "843/843 [==============================] - 1s 740us/step - loss: 0.4588 - accuracy: 0.7782\n",
            "Epoch 5/50\n",
            "843/843 [==============================] - 1s 755us/step - loss: 0.4571 - accuracy: 0.7786\n",
            "Epoch 6/50\n",
            "843/843 [==============================] - 1s 732us/step - loss: 0.4558 - accuracy: 0.7797\n",
            "Epoch 7/50\n",
            "843/843 [==============================] - 1s 723us/step - loss: 0.4547 - accuracy: 0.7801\n",
            "Epoch 8/50\n",
            "843/843 [==============================] - 1s 734us/step - loss: 0.4538 - accuracy: 0.7807\n",
            "Epoch 9/50\n",
            "843/843 [==============================] - 1s 722us/step - loss: 0.4531 - accuracy: 0.7813\n",
            "Epoch 10/50\n",
            "843/843 [==============================] - 1s 712us/step - loss: 0.4524 - accuracy: 0.7816\n",
            "Epoch 11/50\n",
            "843/843 [==============================] - 1s 750us/step - loss: 0.4517 - accuracy: 0.7821\n",
            "Epoch 12/50\n",
            "843/843 [==============================] - 1s 701us/step - loss: 0.4511 - accuracy: 0.7826\n",
            "Epoch 13/50\n",
            "843/843 [==============================] - 1s 758us/step - loss: 0.4507 - accuracy: 0.7826\n",
            "Epoch 14/50\n",
            "843/843 [==============================] - 1s 724us/step - loss: 0.4501 - accuracy: 0.7833\n",
            "Epoch 15/50\n",
            "843/843 [==============================] - 1s 709us/step - loss: 0.4494 - accuracy: 0.7836\n",
            "Epoch 16/50\n",
            "843/843 [==============================] - 1s 712us/step - loss: 0.4490 - accuracy: 0.7840\n",
            "Epoch 17/50\n",
            "843/843 [==============================] - 1s 709us/step - loss: 0.4486 - accuracy: 0.7842\n",
            "Epoch 18/50\n",
            "843/843 [==============================] - 1s 711us/step - loss: 0.4482 - accuracy: 0.7845\n",
            "Epoch 19/50\n",
            "843/843 [==============================] - 1s 717us/step - loss: 0.4481 - accuracy: 0.7848\n",
            "Epoch 20/50\n",
            "843/843 [==============================] - 1s 713us/step - loss: 0.4475 - accuracy: 0.7850\n",
            "Epoch 21/50\n",
            "843/843 [==============================] - 1s 701us/step - loss: 0.4472 - accuracy: 0.7851\n",
            "Epoch 22/50\n",
            "843/843 [==============================] - 1s 742us/step - loss: 0.4470 - accuracy: 0.7853\n",
            "Epoch 23/50\n",
            "843/843 [==============================] - 1s 707us/step - loss: 0.4466 - accuracy: 0.7861\n",
            "Epoch 24/50\n",
            "843/843 [==============================] - 1s 704us/step - loss: 0.4463 - accuracy: 0.7860\n",
            "Epoch 25/50\n",
            "843/843 [==============================] - 1s 708us/step - loss: 0.4460 - accuracy: 0.7862\n",
            "Epoch 26/50\n",
            "843/843 [==============================] - 1s 710us/step - loss: 0.4456 - accuracy: 0.7865\n",
            "Epoch 27/50\n",
            "843/843 [==============================] - 1s 704us/step - loss: 0.4453 - accuracy: 0.7868\n",
            "Epoch 28/50\n",
            "843/843 [==============================] - 1s 711us/step - loss: 0.4450 - accuracy: 0.7872\n",
            "Epoch 29/50\n",
            "843/843 [==============================] - 1s 704us/step - loss: 0.4446 - accuracy: 0.7872\n",
            "Epoch 30/50\n",
            "843/843 [==============================] - 1s 708us/step - loss: 0.4442 - accuracy: 0.7874\n",
            "Epoch 31/50\n",
            "843/843 [==============================] - 1s 719us/step - loss: 0.4441 - accuracy: 0.7880\n",
            "Epoch 32/50\n",
            "843/843 [==============================] - 1s 714us/step - loss: 0.4436 - accuracy: 0.7880\n",
            "Epoch 33/50\n",
            "843/843 [==============================] - 1s 756us/step - loss: 0.4435 - accuracy: 0.7883\n",
            "Epoch 34/50\n",
            "843/843 [==============================] - 1s 736us/step - loss: 0.4432 - accuracy: 0.7884\n",
            "Epoch 35/50\n",
            "843/843 [==============================] - 1s 709us/step - loss: 0.4430 - accuracy: 0.7884\n",
            "Epoch 36/50\n",
            "843/843 [==============================] - 1s 711us/step - loss: 0.4429 - accuracy: 0.7885\n",
            "Epoch 37/50\n",
            "843/843 [==============================] - 1s 711us/step - loss: 0.4426 - accuracy: 0.7887\n",
            "Epoch 38/50\n",
            "843/843 [==============================] - 1s 708us/step - loss: 0.4424 - accuracy: 0.7890\n",
            "Epoch 39/50\n",
            "843/843 [==============================] - 1s 716us/step - loss: 0.4423 - accuracy: 0.7890\n",
            "Epoch 40/50\n",
            "843/843 [==============================] - 1s 707us/step - loss: 0.4421 - accuracy: 0.7892\n",
            "Epoch 41/50\n",
            "843/843 [==============================] - 1s 756us/step - loss: 0.4421 - accuracy: 0.7890\n",
            "Epoch 42/50\n",
            "843/843 [==============================] - 1s 710us/step - loss: 0.4419 - accuracy: 0.7893\n",
            "Epoch 43/50\n",
            "843/843 [==============================] - 1s 712us/step - loss: 0.4419 - accuracy: 0.7894\n",
            "Epoch 44/50\n",
            "843/843 [==============================] - 1s 709us/step - loss: 0.4416 - accuracy: 0.7891\n",
            "Epoch 45/50\n",
            "843/843 [==============================] - 1s 709us/step - loss: 0.4415 - accuracy: 0.7893\n",
            "Epoch 46/50\n",
            "843/843 [==============================] - 1s 710us/step - loss: 0.4411 - accuracy: 0.7895\n",
            "Epoch 47/50\n",
            "843/843 [==============================] - 1s 716us/step - loss: 0.4417 - accuracy: 0.7893\n",
            "Epoch 48/50\n",
            "843/843 [==============================] - 1s 707us/step - loss: 0.4415 - accuracy: 0.7895\n",
            "Epoch 49/50\n",
            "843/843 [==============================] - 1s 728us/step - loss: 0.4411 - accuracy: 0.7897\n",
            "Epoch 50/50\n",
            "843/843 [==============================] - 1s 711us/step - loss: 0.4412 - accuracy: 0.7898\n"
          ]
        }
      ],
      "source": [
        "history = model.fit(x_train, y_train, epochs=50, batch_size=1000)"
      ]
    },
    {
      "cell_type": "code",
      "execution_count": 70,
      "metadata": {
        "colab": {
          "base_uri": "https://localhost:8080/"
        },
        "id": "awQyzRVEqWXC",
        "outputId": "33f53146-6ee2-4364-ef5f-184daa01c2f8"
      },
      "outputs": [
        {
          "name": "stdout",
          "output_type": "stream",
          "text": [
            "11288/11288 [==============================] - 4s 346us/step - loss: 0.4401 - accuracy: 0.7903\n"
          ]
        },
        {
          "data": {
            "text/plain": [
              "0.7903479337692261"
            ]
          },
          "execution_count": 70,
          "metadata": {},
          "output_type": "execute_result"
        }
      ],
      "source": [
        "model.evaluate(x_test, y_test)[1]"
      ]
    },
    {
      "cell_type": "code",
      "execution_count": 71,
      "metadata": {
        "colab": {
          "base_uri": "https://localhost:8080/",
          "height": 1000
        },
        "id": "4BU9QVjwSOBJ",
        "outputId": "576b5f8e-4ba2-42be-d5c6-d7a3dd962704"
      },
      "outputs": [
        {
          "name": "stdout",
          "output_type": "stream",
          "text": [
            "11288/11288 [==============================] - 3s 288us/step\n"
          ]
        },
        {
          "data": {
            "text/html": [
              "<div>\n",
              "<style scoped>\n",
              "    .dataframe tbody tr th:only-of-type {\n",
              "        vertical-align: middle;\n",
              "    }\n",
              "\n",
              "    .dataframe tbody tr th {\n",
              "        vertical-align: top;\n",
              "    }\n",
              "\n",
              "    .dataframe thead th {\n",
              "        text-align: right;\n",
              "    }\n",
              "</style>\n",
              "<table border=\"1\" class=\"dataframe\">\n",
              "  <thead>\n",
              "    <tr style=\"text-align: right;\">\n",
              "      <th></th>\n",
              "      <th>ground truth</th>\n",
              "      <th>pred</th>\n",
              "    </tr>\n",
              "  </thead>\n",
              "  <tbody>\n",
              "    <tr>\n",
              "      <th>455860</th>\n",
              "      <td>0</td>\n",
              "      <td>0.050444</td>\n",
              "    </tr>\n",
              "    <tr>\n",
              "      <th>599719</th>\n",
              "      <td>1</td>\n",
              "      <td>0.834040</td>\n",
              "    </tr>\n",
              "    <tr>\n",
              "      <th>1057702</th>\n",
              "      <td>0</td>\n",
              "      <td>0.028534</td>\n",
              "    </tr>\n",
              "    <tr>\n",
              "      <th>99017</th>\n",
              "      <td>0</td>\n",
              "      <td>0.016295</td>\n",
              "    </tr>\n",
              "    <tr>\n",
              "      <th>693956</th>\n",
              "      <td>1</td>\n",
              "      <td>0.667881</td>\n",
              "    </tr>\n",
              "    <tr>\n",
              "      <th>522177</th>\n",
              "      <td>0</td>\n",
              "      <td>0.794660</td>\n",
              "    </tr>\n",
              "    <tr>\n",
              "      <th>218743</th>\n",
              "      <td>0</td>\n",
              "      <td>0.088598</td>\n",
              "    </tr>\n",
              "    <tr>\n",
              "      <th>247137</th>\n",
              "      <td>0</td>\n",
              "      <td>0.770449</td>\n",
              "    </tr>\n",
              "    <tr>\n",
              "      <th>373743</th>\n",
              "      <td>0</td>\n",
              "      <td>0.260844</td>\n",
              "    </tr>\n",
              "    <tr>\n",
              "      <th>849745</th>\n",
              "      <td>1</td>\n",
              "      <td>0.661771</td>\n",
              "    </tr>\n",
              "    <tr>\n",
              "      <th>141484</th>\n",
              "      <td>1</td>\n",
              "      <td>0.663421</td>\n",
              "    </tr>\n",
              "    <tr>\n",
              "      <th>1106792</th>\n",
              "      <td>1</td>\n",
              "      <td>0.921859</td>\n",
              "    </tr>\n",
              "    <tr>\n",
              "      <th>234197</th>\n",
              "      <td>0</td>\n",
              "      <td>0.247589</td>\n",
              "    </tr>\n",
              "    <tr>\n",
              "      <th>940771</th>\n",
              "      <td>0</td>\n",
              "      <td>0.473290</td>\n",
              "    </tr>\n",
              "    <tr>\n",
              "      <th>878354</th>\n",
              "      <td>0</td>\n",
              "      <td>0.452369</td>\n",
              "    </tr>\n",
              "    <tr>\n",
              "      <th>1007238</th>\n",
              "      <td>1</td>\n",
              "      <td>0.745476</td>\n",
              "    </tr>\n",
              "    <tr>\n",
              "      <th>992896</th>\n",
              "      <td>1</td>\n",
              "      <td>0.794847</td>\n",
              "    </tr>\n",
              "    <tr>\n",
              "      <th>619124</th>\n",
              "      <td>0</td>\n",
              "      <td>0.054056</td>\n",
              "    </tr>\n",
              "    <tr>\n",
              "      <th>747176</th>\n",
              "      <td>0</td>\n",
              "      <td>0.497265</td>\n",
              "    </tr>\n",
              "    <tr>\n",
              "      <th>749419</th>\n",
              "      <td>0</td>\n",
              "      <td>0.004061</td>\n",
              "    </tr>\n",
              "    <tr>\n",
              "      <th>605616</th>\n",
              "      <td>1</td>\n",
              "      <td>0.718589</td>\n",
              "    </tr>\n",
              "    <tr>\n",
              "      <th>157426</th>\n",
              "      <td>1</td>\n",
              "      <td>0.580424</td>\n",
              "    </tr>\n",
              "    <tr>\n",
              "      <th>668767</th>\n",
              "      <td>0</td>\n",
              "      <td>0.327216</td>\n",
              "    </tr>\n",
              "    <tr>\n",
              "      <th>744878</th>\n",
              "      <td>0</td>\n",
              "      <td>0.611348</td>\n",
              "    </tr>\n",
              "    <tr>\n",
              "      <th>1014614</th>\n",
              "      <td>0</td>\n",
              "      <td>0.015925</td>\n",
              "    </tr>\n",
              "    <tr>\n",
              "      <th>73007</th>\n",
              "      <td>0</td>\n",
              "      <td>0.098749</td>\n",
              "    </tr>\n",
              "    <tr>\n",
              "      <th>382158</th>\n",
              "      <td>0</td>\n",
              "      <td>0.026860</td>\n",
              "    </tr>\n",
              "    <tr>\n",
              "      <th>171094</th>\n",
              "      <td>0</td>\n",
              "      <td>0.802293</td>\n",
              "    </tr>\n",
              "    <tr>\n",
              "      <th>560597</th>\n",
              "      <td>1</td>\n",
              "      <td>0.526841</td>\n",
              "    </tr>\n",
              "    <tr>\n",
              "      <th>1047147</th>\n",
              "      <td>1</td>\n",
              "      <td>0.972895</td>\n",
              "    </tr>\n",
              "  </tbody>\n",
              "</table>\n",
              "</div>"
            ],
            "text/plain": [
              "         ground truth      pred\n",
              "455860              0  0.050444\n",
              "599719              1  0.834040\n",
              "1057702             0  0.028534\n",
              "99017               0  0.016295\n",
              "693956              1  0.667881\n",
              "522177              0  0.794660\n",
              "218743              0  0.088598\n",
              "247137              0  0.770449\n",
              "373743              0  0.260844\n",
              "849745              1  0.661771\n",
              "141484              1  0.663421\n",
              "1106792             1  0.921859\n",
              "234197              0  0.247589\n",
              "940771              0  0.473290\n",
              "878354              0  0.452369\n",
              "1007238             1  0.745476\n",
              "992896              1  0.794847\n",
              "619124              0  0.054056\n",
              "747176              0  0.497265\n",
              "749419              0  0.004061\n",
              "605616              1  0.718589\n",
              "157426              1  0.580424\n",
              "668767              0  0.327216\n",
              "744878              0  0.611348\n",
              "1014614             0  0.015925\n",
              "73007               0  0.098749\n",
              "382158              0  0.026860\n",
              "171094              0  0.802293\n",
              "560597              1  0.526841\n",
              "1047147             1  0.972895"
            ]
          },
          "execution_count": 71,
          "metadata": {},
          "output_type": "execute_result"
        }
      ],
      "source": [
        "y_pred = model.predict(x_test)\n",
        "\n",
        "\n",
        "result = pd.DataFrame({  'ground truth': y_test, 'pred': y_pred.flatten() })\n",
        "result\n",
        "result.head(30)"
      ]
    },
    {
      "cell_type": "code",
      "execution_count": 72,
      "metadata": {
        "colab": {
          "base_uri": "https://localhost:8080/"
        },
        "id": "9VnFDhZ5SS0e",
        "outputId": "9470ff30-d3f4-4640-9871-516a5a980ec7"
      },
      "outputs": [
        {
          "data": {
            "text/plain": [
              "{'loss': [0.5160657167434692,\n",
              "  0.4691116213798523,\n",
              "  0.4618883728981018,\n",
              "  0.4587577283382416,\n",
              "  0.45709753036499023,\n",
              "  0.4557979106903076,\n",
              "  0.4546931982040405,\n",
              "  0.45378026366233826,\n",
              "  0.4530715048313141,\n",
              "  0.4523678123950958,\n",
              "  0.45171722769737244,\n",
              "  0.4510993957519531,\n",
              "  0.4507483243942261,\n",
              "  0.45013538002967834,\n",
              "  0.44939008355140686,\n",
              "  0.4489615559577942,\n",
              "  0.4486083686351776,\n",
              "  0.44820383191108704,\n",
              "  0.44807276129722595,\n",
              "  0.4474756121635437,\n",
              "  0.4471798539161682,\n",
              "  0.4470043480396271,\n",
              "  0.4465709328651428,\n",
              "  0.4463401138782501,\n",
              "  0.4460020661354065,\n",
              "  0.4456082284450531,\n",
              "  0.4452591836452484,\n",
              "  0.4450380504131317,\n",
              "  0.44459477066993713,\n",
              "  0.44420143961906433,\n",
              "  0.44406625628471375,\n",
              "  0.4435924291610718,\n",
              "  0.44349929690361023,\n",
              "  0.44320857524871826,\n",
              "  0.4430053234100342,\n",
              "  0.4428842067718506,\n",
              "  0.44262993335723877,\n",
              "  0.44242945313453674,\n",
              "  0.4422629475593567,\n",
              "  0.4421386420726776,\n",
              "  0.44210395216941833,\n",
              "  0.4418640732765198,\n",
              "  0.44190341234207153,\n",
              "  0.44164976477622986,\n",
              "  0.4415075182914734,\n",
              "  0.44114840030670166,\n",
              "  0.4416920840740204,\n",
              "  0.44145750999450684,\n",
              "  0.44107329845428467,\n",
              "  0.44119253754615784],\n",
              " 'accuracy': [0.7416402101516724,\n",
              "  0.7717262506484985,\n",
              "  0.7761744260787964,\n",
              "  0.7781736850738525,\n",
              "  0.7786245346069336,\n",
              "  0.7797256112098694,\n",
              "  0.7801159620285034,\n",
              "  0.7807471752166748,\n",
              "  0.7813202738761902,\n",
              "  0.7815765738487244,\n",
              "  0.7821045517921448,\n",
              "  0.7825921773910522,\n",
              "  0.782645583152771,\n",
              "  0.7832874655723572,\n",
              "  0.7836434245109558,\n",
              "  0.7840456366539001,\n",
              "  0.7842093706130981,\n",
              "  0.7845463752746582,\n",
              "  0.7847979068756104,\n",
              "  0.785048246383667,\n",
              "  0.7850755453109741,\n",
              "  0.7853199243545532,\n",
              "  0.786133885383606,\n",
              "  0.7860093116760254,\n",
              "  0.7862133979797363,\n",
              "  0.7865087985992432,\n",
              "  0.7868315577507019,\n",
              "  0.7872064709663391,\n",
              "  0.7871803641319275,\n",
              "  0.7874069809913635,\n",
              "  0.7880180478096008,\n",
              "  0.7879587411880493,\n",
              "  0.7883039712905884,\n",
              "  0.7884154915809631,\n",
              "  0.7883917689323425,\n",
              "  0.7885341644287109,\n",
              "  0.7886967062950134,\n",
              "  0.788994550704956,\n",
              "  0.7889530062675476,\n",
              "  0.7892306447029114,\n",
              "  0.7890135049819946,\n",
              "  0.7892816662788391,\n",
              "  0.7893611788749695,\n",
              "  0.789095401763916,\n",
              "  0.7893385887145996,\n",
              "  0.7895284295082092,\n",
              "  0.7892982959747314,\n",
              "  0.7895070910453796,\n",
              "  0.7896767854690552,\n",
              "  0.7897823452949524]}"
            ]
          },
          "execution_count": 72,
          "metadata": {},
          "output_type": "execute_result"
        }
      ],
      "source": [
        "history.history"
      ]
    },
    {
      "cell_type": "code",
      "execution_count": 73,
      "metadata": {
        "colab": {
          "base_uri": "https://localhost:8080/",
          "height": 467
        },
        "id": "k3oC80ICqcsY",
        "outputId": "68b7750d-16f4-40db-ed27-f3b8de60471a"
      },
      "outputs": [
        {
          "data": {
            "text/plain": [
              "Text(0, 0.5, 'loss')"
            ]
          },
          "execution_count": 73,
          "metadata": {},
          "output_type": "execute_result"
        },
        {
          "data": {
            "image/png": "[encoded data removed]",
            "text/plain": [
              "<Figure size 640x480 with 1 Axes>"
            ]
          },
          "metadata": {},
          "output_type": "display_data"
        }
      ],
      "source": [
        "plt.plot(history.epoch, history.history['loss'])\n",
        "plt.xlabel('epochs')\n",
        "plt.ylabel('loss')"
      ]
    },
    {
      "cell_type": "code",
      "execution_count": 74,
      "metadata": {
        "colab": {
          "base_uri": "https://localhost:8080/",
          "height": 469
        },
        "id": "io4mZPBfHbRu",
        "outputId": "e6f5d0bf-a0bf-4db9-ca5f-7b2096d0d38d"
      },
      "outputs": [
        {
          "data": {
            "text/plain": [
              "Text(0, 0.5, 'accuracy')"
            ]
          },
          "execution_count": 74,
          "metadata": {},
          "output_type": "execute_result"
        },
        {
          "data": {
            "image/png": "[encoded data removed]",
            "text/plain": [
              "<Figure size 640x480 with 1 Axes>"
            ]
          },
          "metadata": {},
          "output_type": "display_data"
        }
      ],
      "source": [
        "plt.plot(history.epoch, history.history['accuracy'])\n",
        "plt.xlabel('epochs')\n",
        "plt.ylabel('accuracy')"
      ]
    },
    {
      "cell_type": "code",
      "execution_count": 75,
      "metadata": {
        "colab": {
          "base_uri": "https://localhost:8080/"
        },
        "id": "PkSppb_TSu6K",
        "outputId": "b449003e-3375-4d62-bbb4-4ecc41ed45bd"
      },
      "outputs": [
        {
          "name": "stdout",
          "output_type": "stream",
          "text": [
            "11288/11288 [==============================] - 4s 345us/step - loss: 0.4401 - accuracy: 0.7903\n"
          ]
        },
        {
          "data": {
            "text/plain": [
              "0.7903479337692261"
            ]
          },
          "execution_count": 75,
          "metadata": {},
          "output_type": "execute_result"
        }
      ],
      "source": [
        "model.evaluate(x_test, y_test)[1]"
      ]
    },
    {
      "cell_type": "code",
      "execution_count": 77,
      "metadata": {
        "colab": {
          "base_uri": "https://localhost:8080/"
        },
        "id": "NfAlAN0pS1b2",
        "outputId": "1371f393-1d16-48fa-d950-23d2ebe54663"
      },
      "outputs": [
        {
          "name": "stdout",
          "output_type": "stream",
          "text": [
            "1/1 [==============================] - 0s 12ms/step\n",
            "x=[3.20000000e+01 1.60000000e+01 7.27272727e-01 9.07279055e-01\n",
            " 1.03199174e+00 1.00401606e+00 1.00000000e+00 1.00000000e+00\n",
            " 1.00000000e+00 4.01712904e-03], Predicted=[1.1393383e-22]\n"
          ]
        },
        {
          "name": "stderr",
          "output_type": "stream",
          "text": [
            "/opt/homebrew/lib/python3.10/site-packages/sklearn/base.py:465: UserWarning: X does not have valid feature names, but MinMaxScaler was fitted with feature names\n",
            "  warnings.warn(\n"
          ]
        }
      ],
      "source": [
        "xnew = np.array([[32, 16, 8, 1, 1, 1, 1, 1, 1, 1]])\n",
        "xnew = scaler.transform(xnew)\n",
        "ynew = model.predict(xnew)\n",
        "print(\"x=%s, Predicted=%s\" % (xnew[0], ynew[0]))"
      ]
    },
    {
      "cell_type": "code",
      "execution_count": 78,
      "metadata": {
        "colab": {
          "base_uri": "https://localhost:8080/"
        },
        "id": "kc4eD_0mS1x8",
        "outputId": "aa7d0562-a6e8-4ed6-e271-63469876288a"
      },
      "outputs": [
        {
          "name": "stdout",
          "output_type": "stream",
          "text": [
            "Save Model to disk.\n"
          ]
        },
        {
          "name": "stderr",
          "output_type": "stream",
          "text": [
            "/opt/homebrew/lib/python3.10/site-packages/keras/src/engine/training.py:3103: UserWarning: You are saving your model as an HDF5 file via `model.save()`. This file format is considered legacy. We recommend using instead the native Keras format, e.g. `model.save('my_model.keras')`.\n",
            "  saving_api.save_model(\n"
          ]
        }
      ],
      "source": [
        "model.save(\"NN_model_danceability.h5\")\n",
        "print(\"Save Model to disk.\")\n"
      ]
    },
    {
      "cell_type": "code",
      "execution_count": 79,
      "metadata": {
        "id": "fs9QeD4fXRHA"
      },
      "outputs": [],
      "source": [
        "saved_model = load_model(\"NN_model_danceability.h5\")"
      ]
    },
    {
      "cell_type": "code",
      "execution_count": 80,
      "metadata": {
        "colab": {
          "base_uri": "https://localhost:8080/"
        },
        "id": "9tA-Fnn1XZ2r",
        "outputId": "ca68478e-a9eb-4893-a09d-755d2cf4e943"
      },
      "outputs": [
        {
          "name": "stdout",
          "output_type": "stream",
          "text": [
            "1/1 [==============================] - 0s 27ms/step\n",
            "[1.1393383e-22]\n"
          ]
        }
      ],
      "source": [
        "prediction = saved_model.predict(xnew)\n",
        "print(prediction[0])"
      ]
    },
    {
      "cell_type": "code",
      "execution_count": 42,
      "metadata": {
        "colab": {
          "base_uri": "https://localhost:8080/"
        },
        "id": "UsBa-m8_Ixpl",
        "outputId": "6b8dd808-f416-4464-f3d5-d783c69823e8"
      },
      "outputs": [
        {
          "data": {
            "text/plain": [
              "array([[0.9510289 ],\n",
              "       [0.19556399],\n",
              "       [0.7751479 ],\n",
              "       ...,\n",
              "       [0.7458064 ],\n",
              "       [0.02069702],\n",
              "       [0.00782112]], dtype=float32)"
            ]
          },
          "execution_count": 42,
          "metadata": {},
          "output_type": "execute_result"
        }
      ],
      "source": [
        "y_pred"
      ]
    },
    {
      "cell_type": "code",
      "execution_count": 43,
      "metadata": {
        "colab": {
          "base_uri": "https://localhost:8080/"
        },
        "id": "jUz2DmzVI4Z_",
        "outputId": "100b14eb-39cd-4db1-8f68-63b6e6d5b13d"
      },
      "outputs": [
        {
          "data": {
            "text/plain": [
              "411791     1\n",
              "756547     0\n",
              "269317     0\n",
              "197545     0\n",
              "1164574    0\n",
              "          ..\n",
              "805066     0\n",
              "655880     0\n",
              "539224     1\n",
              "464436     0\n",
              "817363     0\n",
              "Name: danceability, Length: 361208, dtype: int64"
            ]
          },
          "execution_count": 43,
          "metadata": {},
          "output_type": "execute_result"
        }
      ],
      "source": [
        "y_test"
      ]
    },
    {
      "cell_type": "code",
      "execution_count": 48,
      "metadata": {
        "colab": {
          "base_uri": "https://localhost:8080/"
        },
        "id": "ZuQm5_46cZlV",
        "outputId": "4b5c284b-aae2-4556-ed1b-32fc4477ea9d"
      },
      "outputs": [
        {
          "data": {
            "text/plain": [
              "array([[143339,  37003],\n",
              "       [ 35836, 145030]])"
            ]
          },
          "execution_count": 48,
          "metadata": {},
          "output_type": "execute_result"
        }
      ],
      "source": [
        "y_pred_new = y_pred\n",
        "\n",
        "y_pred_new[y_pred_new >= 0.5] = 1\n",
        "y_pred_new[y_pred_new < 0.5] = 0\n",
        "\n",
        "\n",
        "cm=confusion_matrix(y_test, y_pred_new)\n",
        "\n",
        "cm"
      ]
    },
    {
      "cell_type": "code",
      "execution_count": 51,
      "metadata": {
        "colab": {
          "base_uri": "https://localhost:8080/",
          "height": 430
        },
        "id": "Hi1IdAP-IApy",
        "outputId": "319c3bad-1164-481b-cf30-666d8bb47f3d"
      },
      "outputs": [
        {
          "data": {
            "image/png": "[encoded data removed]",
            "text/plain": [
              "<Figure size 640x480 with 2 Axes>"
            ]
          },
          "metadata": {},
          "output_type": "display_data"
        }
      ],
      "source": [
        "sns.heatmap(cm, fmt=\"d\", annot=True, cmap=\"magma\")#\n",
        "plt.show()"
      ]
    },
    {
      "cell_type": "code",
      "execution_count": 86,
      "metadata": {
        "id": "afx-Uij9IVtd"
      },
      "outputs": [],
      "source": [
        "pk.dump(model, open(\"nn.pkl\", \"wb\")) "
      ]
    }
  ],
  "metadata": {
    "colab": {
      "provenance": []
    },
    "kernelspec": {
      "display_name": "Python 3",
      "name": "python3"
    },
    "language_info": {
      "codemirror_mode": {
        "name": "ipython",
        "version": 3
      },
      "file_extension": ".py",
      "mimetype": "text/x-python",
      "name": "python",
      "nbconvert_exporter": "python",
      "pygments_lexer": "ipython3",
      "version": "3.10.9"
    }
  },
  "nbformat": 4,
  "nbformat_minor": 0
}
